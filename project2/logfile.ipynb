{
 "cells": [
  {
   "cell_type": "code",
   "execution_count": 12,
   "metadata": {},
   "outputs": [
    {
     "name": "stderr",
     "output_type": "stream",
     "text": [
      "2024-08-09 16:36:44,106 - INFO - Found 1 log file(s) for today.\n",
      "2024-08-09 16:36:44,106 - INFO - Reading log file: C:/Users/Admin/Documents/MLAI/INFO8665ML1/Fake-Apache-Log-Generator\\access_log_20240809-162946.log\n",
      "2024-08-09 16:36:44,107 - INFO - Application started\n",
      "2024-08-09 16:36:44,107 - INFO - Performing some tasks...\n",
      "2024-08-09 16:36:44,108 - INFO - Application finished\n"
     ]
    },
    {
     "name": "stdout",
     "output_type": "stream",
     "text": [
      "Content of access_log_20240809-162946.log:\n",
      "\n",
      "\n"
     ]
    }
   ],
   "source": [
    "import os\n",
    "import logging\n",
    "import datetime\n",
    "\n",
    "def read_log_files(log_dir):\n",
    "    # Configure logging to output to console\n",
    "    logging.basicConfig(level=logging.DEBUG, format='%(asctime)s - %(levelname)s - %(message)s')\n",
    "\n",
    "    # Get the current date for the log file name\n",
    "    current_date = datetime.datetime.now().strftime('%Y%m%d')\n",
    "    log_file_prefix = f'access_log_{current_date}'\n",
    "\n",
    "    # Ensure the log directory exists\n",
    "    if not os.path.exists(log_dir):\n",
    "        os.makedirs(log_dir)\n",
    "        logging.info(f'Created directory: {log_dir}')\n",
    "\n",
    "    # List all log files in the directory for the current date\n",
    "    existing_files = [f for f in os.listdir(log_dir) if f.startswith(log_file_prefix) and f.endswith('.log')]\n",
    "\n",
    "    if existing_files:\n",
    "        logging.info(f'Found {len(existing_files)} log file(s) for today.')\n",
    "        for log_file_name in existing_files:\n",
    "            log_file_path = os.path.join(log_dir, log_file_name)\n",
    "            logging.info(f'Reading log file: {log_file_path}')\n",
    "            \n",
    "            try:\n",
    "                with open(log_file_path, 'r') as file:\n",
    "                    content = file.read()  # Read the entire file content\n",
    "                    print(f'Content of {log_file_name}:')\n",
    "                    print(content)  # Print the file content\n",
    "                    print('')  # Add a blank line for separation\n",
    "            except IOError as e:\n",
    "                logging.error(f'Error reading log file {log_file_name}: {e}')\n",
    "    else:\n",
    "        logging.info('No log files found for today.')"
   ]
  }
 ],
 "metadata": {
  "kernelspec": {
   "display_name": "tensorflow_cpu",
   "language": "python",
   "name": "python3"
  },
  "language_info": {
   "codemirror_mode": {
    "name": "ipython",
    "version": 3
   },
   "file_extension": ".py",
   "mimetype": "text/x-python",
   "name": "python",
   "nbconvert_exporter": "python",
   "pygments_lexer": "ipython3",
   "version": "3.11.7"
  }
 },
 "nbformat": 4,
 "nbformat_minor": 2
}
